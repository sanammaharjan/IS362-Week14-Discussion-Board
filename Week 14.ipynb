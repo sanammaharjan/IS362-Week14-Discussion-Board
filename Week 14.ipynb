{
 "cells": [
  {
   "cell_type": "markdown",
   "metadata": {},
   "source": [
    "# Recommender Systems\n",
    "##### Presented by: Sanam Maharjan"
   ]
  },
  {
   "cell_type": "markdown",
   "metadata": {},
   "source": [
    " > #### Scenario Design Analysis for Amazon\n",
    " \n",
    " >> ** Who are your target Users? **\n",
    " >>> Target user are the visitors of the website who are willing to buy products or window shopping.\n",
    " \n",
    " >> **What are there Key goals?**\n",
    " >>> Key goals is to sale products in lowest cost than other online reatiler and provide hassle be shopping experiance. \n",
    " \n",
    " >> **How can you accomplish those goals?**\n",
    " >>> Amazon can implement recommender algorithm which help customer to find products they are looking for easily with the ratings of the product by other users, comparing prices to other major online retailers like ebay, provide list of other item related to inquired item and easy filtering on selecting prodcuts. \n",
    " \n"
   ]
  },
  {
   "cell_type": "markdown",
   "metadata": {},
   "source": [
    "> **Reverse Engineering**\n",
    ">> Recommendations are lists of similar items to purchased or rated items. The common recommender amazon has alredy is \"Trending\", \"Recommended deals\", \"More top picks for you\", \"Inspired by other shopping trends\", \"Today's hottest holiday deals\", and \"Recommendations for you in Cell Phones & Accessories\". \n",
    "Trending is based on the ratings and product viewed and purchased by other customers and Recommend deals are based on my pervious purchase and search history. \"More top picks for you\" section gave items based on my previous purchase and browsing history which help viewer to remeber if they are still interested in that product.  Similarly, \"Inspired by other shopping trends\" may have given recommendations based on this algorithm as well. On the other hand, the \"Recommendations for you\" sections uses item-to-item collaborative filtering that aggregated a multitude of items that are similar to purchased items. Amazon uses this algorithm because it can process a large data set quickly, give highly correlated similar items, and has scabality and performance."
   ]
  },
  {
   "cell_type": "code",
   "execution_count": null,
   "metadata": {
    "collapsed": true
   },
   "outputs": [],
   "source": []
  }
 ],
 "metadata": {
  "kernelspec": {
   "display_name": "Python 3",
   "language": "python",
   "name": "python3"
  },
  "language_info": {
   "codemirror_mode": {
    "name": "ipython",
    "version": 3
   },
   "file_extension": ".py",
   "mimetype": "text/x-python",
   "name": "python",
   "nbconvert_exporter": "python",
   "pygments_lexer": "ipython3",
   "version": "3.6.1"
  }
 },
 "nbformat": 4,
 "nbformat_minor": 2
}
